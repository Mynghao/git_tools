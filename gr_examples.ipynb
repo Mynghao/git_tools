{
 "cells": [
  {
   "cell_type": "code",
   "execution_count": 1,
   "id": "054106c2",
   "metadata": {},
   "outputs": [],
   "source": [
    "import numpy as np\n",
    "from gr_tools import Idx, grTools\n"
   ]
  },
  {
   "cell_type": "markdown",
   "id": "55f0c7c8",
   "metadata": {},
   "source": [
    "### Example for Minkowski metric"
   ]
  },
  {
   "cell_type": "code",
   "execution_count": 51,
   "id": "1e66e513",
   "metadata": {},
   "outputs": [
    {
     "data": {
      "text/plain": [
       "array([[1., 1., 1.]])"
      ]
     },
     "execution_count": 51,
     "metadata": {},
     "output_type": "execute_result"
    }
   ],
   "source": [
    "minkTools = grTools(\n",
    "    'mink', \n",
    ")\n",
    "\n",
    "#array of vectors to transform (spherical coordinates)\n",
    "v = np.array([[1, 1, 1]])\n",
    "\n",
    "#array of corresponding locations to transform at (spherical coordinates)\n",
    "x = np.array([[1, np.pi / 2, 0]])\n",
    "\n",
    "#transforms from covariant (Idx.D) to tetrad (Idx.T) basis\n",
    "minkTools.transform(v, x, Idx.D, Idx.T)"
   ]
  },
  {
   "cell_type": "markdown",
   "id": "685349a2",
   "metadata": {},
   "source": [
    "### Example for Kerr metric (Kerr–Schild)"
   ]
  },
  {
   "cell_type": "code",
   "execution_count": 45,
   "id": "cd65454f",
   "metadata": {},
   "outputs": [
    {
     "data": {
      "text/plain": [
       "array([[7.63762616e-01, 1.00000000e+00, 1.41058262e+00],\n",
       "       [9.14239210e-01, 1.00000000e-01, 1.05319365e-01],\n",
       "       [9.90160167e-01, 1.00000000e-02, 1.00503694e-02],\n",
       "       [9.99001623e-01, 1.00000000e-03, 1.00050037e-03],\n",
       "       [9.99900016e-01, 1.00000000e-04, 1.00005000e-04],\n",
       "       [9.99990000e-01, 1.00000000e-05, 1.00000500e-05],\n",
       "       [9.99999000e-01, 1.00000000e-06, 1.00000050e-06],\n",
       "       [9.99999900e-01, 1.00000000e-07, 1.00000005e-07],\n",
       "       [9.99999990e-01, 1.00000000e-08, 1.00000001e-08],\n",
       "       [9.99999999e-01, 1.00000000e-09, 1.00000000e-09],\n",
       "       [1.00000000e+00, 1.00000000e-10, 1.00000000e-10]])"
      ]
     },
     "execution_count": 45,
     "metadata": {},
     "output_type": "execute_result"
    }
   ],
   "source": [
    "kerrTools = grTools(\n",
    "    'kerr', \n",
    "    {'a': 0.5}\n",
    ")\n",
    "\n",
    "#array of vectors to transform (spherical coordinates)\n",
    "v = np.array([[1, 1, 1]])\n",
    "\n",
    "#array of corresponding locations to transform at (spherical coordinates)\n",
    "r = np.logspace(0, 10, 11)\n",
    "x = np.array([[i, np.pi / 2, 0] for i in r])\n",
    "\n",
    "#transforms from covariant (Idx.D) to tetrad (Idx.T) basis\n",
    "kerrTools.transform(v, x, Idx.D, Idx.T)"
   ]
  }
 ],
 "metadata": {
  "kernelspec": {
   "display_name": "Python 3 (ipykernel)",
   "language": "python",
   "name": "python3"
  },
  "language_info": {
   "codemirror_mode": {
    "name": "ipython",
    "version": 3
   },
   "file_extension": ".py",
   "mimetype": "text/x-python",
   "name": "python",
   "nbconvert_exporter": "python",
   "pygments_lexer": "ipython3",
   "version": "3.10.5"
  }
 },
 "nbformat": 4,
 "nbformat_minor": 5
}
